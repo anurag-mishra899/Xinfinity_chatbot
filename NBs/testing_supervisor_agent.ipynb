{
 "cells": [
  {
   "cell_type": "code",
   "execution_count": 40,
   "metadata": {},
   "outputs": [
    {
     "name": "stdout",
     "output_type": "stream",
     "text": [
      "The autoreload extension is already loaded. To reload it, use:\n",
      "  %reload_ext autoreload\n"
     ]
    }
   ],
   "source": [
    "import pandas \n",
    "import os\n",
    "import pandas as pd\n",
    "# import faiss\n",
    "from uuid import uuid4\n",
    "from langgraph_supervisor import create_supervisor\n",
    "from langchain_core.messages import HumanMessage\n",
    "from langgraph.prebuilt import create_react_agent\n",
    "from langchain_core.documents import Document\n",
    "from langchain_community.docstore.in_memory import InMemoryDocstore\n",
    "from langchain_community.vectorstores import FAISS\n",
    "from langchain_openai import ChatOpenAI,OpenAIEmbeddings\n",
    "from langchain_community.utilities import SQLDatabase\n",
    "from langchain.tools.retriever import create_retriever_tool\n",
    "from langchain_core.prompts import ChatPromptTemplate\n",
    "\n",
    "%load_ext autoreload\n",
    "%autoreload 2\n",
    "from dotenv import load_dotenv\n",
    "load_dotenv()\n",
    "\n",
    "\n",
    "db = SQLDatabase.from_uri(\"sqlite:///xinfinity_agent.db\")"
   ]
  },
  {
   "cell_type": "code",
   "execution_count": 11,
   "metadata": {},
   "outputs": [],
   "source": [
    "llm = ChatOpenAI(model=\"gpt-4.1-nano-2025-04-14\")\n",
    "embeddings = OpenAIEmbeddings()"
   ]
  },
  {
   "cell_type": "code",
   "execution_count": 5,
   "metadata": {},
   "outputs": [],
   "source": [
    "\n",
    "vector_store = FAISS.load_local(\n",
    "    \"vector_store_index\", embeddings, allow_dangerous_deserialization=True\n",
    ")\n",
    "retriever_tool = create_retriever_tool(\n",
    "    retriever= vector_store.as_retriever(),\n",
    "    name='retriever_tool',\n",
    "    description='For fetching any company related policies or guidelines information'\n",
    ")\n"
   ]
  },
  {
   "cell_type": "code",
   "execution_count": null,
   "metadata": {},
   "outputs": [],
   "source": [
    "system_message=\"\""
   ]
  },
  {
   "cell_type": "code",
   "execution_count": 20,
   "metadata": {},
   "outputs": [],
   "source": [
    "rag_react_agent = create_react_agent(model= llm, \n",
    "                                        tools= [retriever_tool], \n",
    "                                        name= 'rag_agent_executor',\n",
    "                                        prompt= \"You are a RAG agent that answers user queries, you have access to the retriever tool for context\")"
   ]
  },
  {
   "cell_type": "code",
   "execution_count": null,
   "metadata": {},
   "outputs": [],
   "source": [
    "#\"can i get full refund if i return xfinity box after 6 months. it is undamaged.\""
   ]
  },
  {
   "cell_type": "code",
   "execution_count": 25,
   "metadata": {},
   "outputs": [],
   "source": [
    "result = rag_react_agent.invoke({\"input\":{\"messages\": [(\"user\", \"can i get full refund if i return xfinity box after 6 months. it is undamaged.\")]}})"
   ]
  },
  {
   "cell_type": "code",
   "execution_count": 31,
   "metadata": {},
   "outputs": [],
   "source": [
    "def print_stream(stream):\n",
    "    for s in stream:\n",
    "        message = s[\"messages\"][-1]\n",
    "        if isinstance(message, tuple):\n",
    "            print(message)\n",
    "        else:\n",
    "            message.pretty_print()"
   ]
  },
  {
   "cell_type": "code",
   "execution_count": null,
   "metadata": {},
   "outputs": [],
   "source": [
    "#refund policy if i return xfinity box after 6 months. it is undamaged."
   ]
  },
  {
   "cell_type": "code",
   "execution_count": 38,
   "metadata": {},
   "outputs": [],
   "source": [
    "inputs={\"messages\": [(\"user\", \"how can i get full refund on my xfinity devices? \")]}"
   ]
  },
  {
   "cell_type": "code",
   "execution_count": 39,
   "metadata": {},
   "outputs": [
    {
     "name": "stdout",
     "output_type": "stream",
     "text": [
      "================================\u001b[1m Human Message \u001b[0m=================================\n",
      "\n",
      "how can i get full refund on my xfinity devices? \n",
      "==================================\u001b[1m Ai Message \u001b[0m==================================\n",
      "Name: rag_agent_executor\n",
      "Tool Calls:\n",
      "  retriever_tool (call_AjfT30zDFMPlsKDmBTg7MDp8)\n",
      " Call ID: call_AjfT30zDFMPlsKDmBTg7MDp8\n",
      "  Args:\n",
      "    query: Xfinity device return and refund policy\n",
      "=================================\u001b[1m Tool Message \u001b[0m=================================\n",
      "Name: retriever_tool\n",
      "\n",
      "For avoidance of doubt, Xfinity Equipment remains Comcast-owned equipment, and Comcast retains title to all Xfinity Equipment, at all times, including but not limited to after payment of an Unreturned Equipment Fee. \"Unreturned Equipment Fee\" refers to a fee charged by Comcast to a subscriber for any unreturned Xfinity Equipment upon termination of the Services provided under this Agreement. The payment of an Unreturned Equipment Fee shall not result in a sale of, or the transfer of title to, any Xfinity Equipment, and such Xfinity Equipment shall remain the property of Comcast, and Comcast retains title to Xfinity Equipment at all times. Comcast in no way relinquishes ownership of (including title to) Xfinity Equipment by the payment of an Unreturned Equipment Fee. Even if an Unreturned Equipment Fee has been paid, Xfinity Equipment shall not be resold, used, or operated in any manner. If you pay an Unreturned Equipment Fee and subsequently return the Xfinity Equipment undamaged (with the exception of normal wear and tear), you will be refunded your Unreturned Equipment Fee in full. 8. USE OF THE SERVICES The Services are for personal, residential, non-commercial use only, unless otherwise specifically authorized by us in writing. We prohibit the following activities: · Reselling the Services in whole or in part; . Using the Services, directly or indirectly, for any unlawful purpose or in violation of any applicable policy that we make available to you; · Using the Services to transmit, communicate, or store any information, data, or material in violation of any law, rule, or regulation; · Tampering with, making any unauthorized connection to, or modifying any part of our cable network or the Services for any purpose; · Attaching any unauthorized device to our cable network or the Services; or · Attaching anything to the Inside Wiring, the Xfinity Equipment, or Customer Equipment that impairs the integrity of our cable network, that degrades our cable network's signal quality or strength, or that creates signal leakage. You agree not to engage in these or other similar prohibited activities, or help anyone else do so. You acknowledge that you are accepting this Agreement on behalf of all persons who use the Services at your Premises (or any other locations authorized by us). You are solely responsible for ensuring that all other users of the Services understand and comply with this Agreement and any applicable policies. You are liable for all authorized and unauthorized use of the Services. If the Xfinity Equipment has been stolen or the Services have been used without your authorization or in violation of this Agreement, you agree to notify us immediately in writing, or by calling 1-800-XFINITY during normal business hours. If you violate this Agreement, or if you fail to notify us of unauthorized use in a timely manner, we may terminate the Services and recover damages. Since it would be difficult, if not impossible, to precisely calculate our lost revenue from unauthorized Services or tampering, you agree to pay $500.00 per device used to receive unauthorized Services as liquidated damages. These liquidated damages are in addition to our cost to replace any altered, damaged, or unreturned Xfinity Equipment, or other equipment owned by us, including any incidental costs. The unauthorized reception of the Services may also result in criminal fines and/or imprisonment, and we reserve the right to report any illegal activities to law enforcement. In connection with your use of the Services, if you need to access third-party software or hardware, you will be subject to third-party terms and conditions. Certain components of the Services are also subject to our Software License Agreement, available at xfinity.com/terms/license. Your use of certain Services may also be subject to acceptable use policies, available at xfinity.com/policies. For example, our Acceptable Use for Xfinity Internet Policy is available at xfinity.com/ Corporate/Customers/Policies/HighSpeedInternetAUP. To understand how we collect and use information through the Services, please read our privacy policy, available at xfinity.com/Corporate/ Customers/Policies/CustomerPrivacy. We may amend these policies and agreements from time to time, with or without notice to you. You should consult these policies and agreements regularly to comply with the most recent versions. We incorporate these additional policies and agreements (including any amendments) into this Agreement by reference. WE RESERVE THE RIGHT TO LIMIT OR BLOCK ANY SERVICE USAGE AS WE DEEM NECESSARY TO PREVENT HARM TO OUR NETWORK, FRAUD, OR OTHER ABUSE OF THE SERVICES, OR AS OTHERWISE PROVIDED BY LAW. 9. TERMINATION This Agreement will remain in effect from Service activation until this Agreement is terminated (by us or by you), as described below. This Agreement may also be terminated if it is replaced by a revised agreement. a. How you may terminate If your Services are subject to a minimum term agreement, and you terminate all or any portion of the Services under the minimum term agreement before the end of the minimum term, you may be charged an early termination fee. Review your minimum term agreement for additional details. If your Services are not subject to a minimum term agreement, you may terminate the Services and this Agreement for any reason at any time. You must notify us that you want to terminate in one of the ways listed on xfinity.com/cancel. Applicable fees and charges for the Services may accrue until the Services have been disconnected, all Xfinity Equipment has been returned, and this Agreement has been terminated, subject to applicable law or the terms of any agreements we have with governmental authorities. At our election, and subject to applicable law, we may change our policy to continue all Services (or any part of them) through the end of the billing cycle in which we received your notice, which means those Services will terminate at the end of the applicable billing cycle. We may refund all prepaid monthly service fees charged for the Services after the effective date of termination, and we reserve the right to subtract from your refund any outstanding amounts due to us for the Services, for any affiliate or third-party services, or for other applicable fees and charges. Certain fees and charges are non-refundable and are also excluded. b. How we may terminate or suspend Services Subject to applicable law, we reserve the right to immediately terminate or suspend the Services without notice for any reason or no reason. We also reserve the right to remove from the Services any information stored or transmitted by or to any users (e.g., email or voicemail). We may take these actions if we reasonably determine that your use of the Services: (i) violates this Agreement, any applicable policies, or any laws, rules, or regulations; (ii) interferes with our ability to provide the Services to you or to others; or (iii) interferes with or endangers the health or safety of our 3 personnel or third parties, including if you threaten, harass, or use vulgar or inappropriate language toward our personnel. We have discretion in deciding whether and why to terminate or suspend Services. If we continue providing Services, this does not mean we have reviewed or approved any use of the Services, or any information transmitted through the Services. c. You have certain obligations upon termination\n",
      "\n",
      "IN ADDITION TO, AND NOTWITHSTANDING SECTION 13(g) ABOVE, AND TO THE EXTENT ALLOWABLE AND NOT PRECLUDED BY THE LAW OF THE STATE IN WHICH YOU RESIDE, THERE SHALL BE NO RIGHT OR AUTHORITY FOR ANY CLAIMS TO BE LITIGATED (a) ON A CLASS ACTION, COLLECTIVE ACTION, OR (b) ON BASES INVOLVING CLAIMS BROUGHT IN A PURPORTED REPRESENTATIVE CAPACITY ON BEHALF OF THE GENERAL PUBLIC (SUCH AS A PRIVATE ATTORNEY GENERAL), OTHER SUBSCRIBERS, OR OTHER PERSONS. EACH PARTY MAY PROCEED AS TO ANY DISPUTE ONLY IN THAT PARTY'S INDIVIDUAL CAPACITY, AND NOT AS A (c) PLAINTIFF OR CLASS MEMBER IN ANY PURPORTED CLASS ACTION, COLLECTIVE ACTION, OR (d) REPRESENTATIVE OF THE GENERAL PUBLIC (SUCH AS A PRIVATE ATTORNEY GENERAL), OTHER SUBSCRIBERS, OR OTHER PERSONS. 16. INDEMNIFICATION YOU AGREE TO DEFEND, INDEMNIFY, AND HOLD US AND EACH RELEASED ENTITY HARMLESS FROM AND AGAINST ANY DAMAGES, LOSSES, OR EXPENSES (INCLUDING, WITHOUT LIMITATION, REASONABLE ATTORNEYS' FEES AND COSTS) INCURRED IN CONNECTION WITH ANY CLAIMS, SUITS, JUDGMENTS, AND CAUSES OF ACTION ARISING OUT OF (a) YOUR USE OF THE SERVICES OR THE CUSTOMER EQUIPMENT; (b) YOUR ACTUAL OR ALLEGED VIOLATION OF APPLICABLE LAW; (c) YOUR FAILURE TO NOTIFY US OF A CHANGE IN OR THE INACCURACY OF THE INFORMATION YOU PROVIDED (INCLUDING, FOR EXAMPLE, CLAIMS UNDER THE TELEPHONE CONSUMER PROTECTION ACT AND RELATED REGULATIONS); AND (d) YOUR BREACH OF THIS AGREEMENT OR ANY APPLICABLE POLICIES. 17. MONITORING AND RECORDING You agree that, in accordance with our Privacy Policy, located at xfinity.com/privacy/policy, we (and our agents) may monitor and record any telephone calls or other communications, regardless of medium (a) between us (and our agents) and you or your agents, or (b) between us (and our agents) and any user of your Services or Customer Equipment, or any phone number associated with your account. 18. OUR INTELLECTUAL PROPERTY RIGHTS All Services, information, documents, materials, firmware, and software we provide are protected by trademark, copyright, patent, and other intellectual property laws and international treaty provisions. You are granted a revocable license to use our firmware and software in object code form (without making any modification thereto) strictly in accordance with this Agreement. You have no other license to use firmware or software embedded in or used to provide the Services. You must not take any action nor allow anyone else to take any action that will reverse compile, disassemble, reverse engineer, or otherwise attempt to derive the source code from the binary code of the firmware or software. All of our and our affiliates' websites, corporate names, service marks, trademarks, trade names, logos, and domain names (collectively \"Marks\") are and will remain our and our affiliates' exclusive property. Nothing in this Agreement grants you the right or license to use any of the Marks. 19. YOUR REPRESENTATIONS AND WARRANTIES You represent and warrant that you are at least 18 years of age and that you have provided us with information that is accurate, complete, and current. For example, you must provide us with your accurate, complete, and current legal name, address (including apartment, unit, suite number, etc., where applicable), telephone number(s), the number of devices on which or through which the Services are being used, and payment information. You must also provide accurate information when authorizing recurring payments. You agree to promptly update your contact information to keep it accurate and complete. YOU ARE RESPONSIBLE FOR MAINTAINING THE ACCURACY OF YOUR INFORMATION, EVEN AFTER TERMINATION OF THIS AGREEMENT, UNTIL YOU PAY ALL AMOUNTS DUE AND RETURN ALL XFINITY EQUIPMENT. FAILURE TO DO SO IS A BREACH OF THIS AGREEMENT. You represent and warrant that you will comply with all applicable laws, including export rules. 20. CONSENT TO COMMUNICATIONS FROM COMCAST You agree that Comcast or third parties acting on Comcast's behalf may call, text or email you at any telephone number or email address that you provide to Comcast or that Comcast issues to you, and may do so for any purpose relating to your account and/or the Services to which you subscribe. You expressly consent to receive such calls, texts and emails and agree that these calls, texts and emails are not unsolicited. You understand and acknowledge that calls and texts may entail the use of an automatic telephone dialing system and/or artificial or prerecorded messages. If you do not wish to receive these call and texts, you may visit the Preference Center at xfinity.com/donotcontact to manage your communications preferences. You understand and acknowledge that this is the exclusive means of opting out of such communications. You may not opt-out of receiving certain communications pertaining to your account, including but not limited to communications regarding emergencies, fraud or other violations of law, security issues, and harm caused to the network. Message frequency depends on your activity with your Services. Message and/or data rates may apply. 21. INFORMATION PROVIDED TO THIRD PARTIES We are not responsible for any information provided by you to third parties including credit/debit card or banking information, and this information is not subject to the privacy provisions of this Agreement or the privacy notice for the Services. You assume all privacy, security, and other risks associated with providing any information, including customer proprietary network equipment or personal information, to third parties via the Services. For a description of the privacy protections associated with providing information to third parties, you should refer to the privacy policies, if any, provided by those third parties. 22. ASSIGNABILITY You may not assign your right to use the Services without our authorization. You may not assign your rights and obligations under this Agreement. We may freely assign this Agreement, any of our rights and obligations, or any debt you owe us, without notifying you. 23. RETENTION OF RIGHTS We may decide not to enforce our rights or exercise a remedy under this Agreement in a specific instance. This will not be a waiver of our rights or remedies. Nothing contained in this Agreement limits our rights and remedies available at law or in equity. If this Agreement terminates, we (and the Released Entities) reserve the right to delete all of your data, files, electronic messages, 6 voicemails, user account names, email addresses, IP addresses, websites, or other information that are stored and/or used with the Services. If you cancel Voice without porting your service or telephone number to another service provider, you will forfeit the telephone number. We and the Released Entities will not be liable for the loss of any data, information, or phone numbers. 24. ENTIRE AGREEMENT, SEVERABILITY\n",
      "\n",
      "XFINITY RESIDENTIAL SERVICES AGREEMENT The terms of this agreement (the \"Agreement\") apply to your use of any of the Xfinity services described in Section 1 below and the Xfinity Equipment described in Section 7 below (collectively, the \"Services\"). An operating subsidiary or other affiliate of Comcast Cable Communications, LLC (collectively, \"Comcast,\" \"we,\" \"us,\" or \"our\") provides the Services. You accept this Agreement and agree to its terms by activating the Services, using the Services, continuing to use the Services after we provide notice of a change to this Agreement, or otherwise indicating your acceptance of the Services. You may not modify this Agreement by making any typed, handwritten, or other changes. Note: THIS AGREEMENT CONTAINS A BINDING ARBITRATION PROVISION IN SECTION 13 THAT AFFECTS YOUR RIGHTS UNDER THIS AGREEMENT WITH RESPECT TO ALL SERVICES. UNLESS YOU HAVE OPTED OUT IN A TIMELY MANNER, THE ARBITRATION PROVISION REQUIRES THAT ALL DISPUTES BE RESOLVED IN INDIVIDUAL ARBITRATIONS OR SMALL CLAIMS COURT PROCEEDINGS. IN ARBITRATION, THERE IS NO JUDGE OR JURY AND THERE IS LESS DISCOVERY AND APPELLATE REVIEW THAN IN COURT. THIS AGREEMENT FURTHER AND SEPARATELY CONTAINS A WAIVER OF JURY TRIAL IN SECTION 14, AND A WAIVER OF CLASS, COLLECTIVE, AND REPRESENTATIVE ACTIONS IN SECTION 15 TO THE EXTENT ALLOWABLE IN YOUR STATE. TABLE OF CONTENTS: 1. Covered Xfinity Services 2. Additional Terms 3. Charges and Billings 4. Changes to Services, Rates, Charges, and this Agreement 5. Access to Your Premises 6. Customer Equipment and Inside Wiring 7. Xfinity Equipment 8. Use of the Services 9. Termination 10. Limited Warranty 11. Limitation of Liability 12. One Year Limitation Period 13. Binding Arbitration, and Class/Collective/Representative Action/Relief Waiver 14. Waiver of Jury Trial 15. Waiver of Class, Collective, and Representative Actions/Relief 16. Indemnification 17. Monitoring and Recording 18. Our Intellectual Property Rights 19. Your Representations and Warranties 20.Consent to Communications from Comcast 21. Information Provided to Third Parties 22.Assignability 23.Retention of Rights 24. Entire Agreement, Severability 25.Contact Us 26.Survival 1. COVERED XFINITY SERVICES The following services are covered by this Agreement: Xfinity cable television and other video and streaming services (\"TV\"); Xfinity or NOW Internet services (\"Internet\"); Xfinity digital phone services (\"Voice\"); and other ancillary services Comcast may designate. The terms of this Agreement do not apply to any other services provided by Comcast (such as Xfinity Home or Xfinity Mobile). This Agreement also does not apply to any Comcast-owned or -controlled websites and mobile apps that do not link to this Agreement, which are subject to their own terms of service and policies, such as our Web Services Terms of Service (available at xfinity.com/terms/web) and our Website Terms of Service (available at xfinity.com/corporate/legal/visitoragreement). 2. ADDITIONAL TERMS Tariffs, service guides, and posted policies and procedures may apply to the Services. Additional Service-specific terms may apply to your use of TV, Internet, Voice, or any ancillary service or device. These additional terms are available at xfinity.com/policies (under \"Xfinity Residential Services\") and at xfinity.com/Corporate/Customers/Policies/additionalterms. We reserve the right to provide notice of new websites or locations for additional terms. These additional terms are also part of this Agreement. If any additional terms conflict with these terms, the additional terms specific to the particular Service will govern. If the Services you subscribe to include cloud DVR and you use this technology, you confirm that you want to activate cloud DVR in connection with the Services, subject to this Agreement. You agree that cloud DVR technology will enable you to schedule, make, and access your recordings using this technology on any supported devices, such as supported set-top boxes, streaming video players, smart televisions, computers, smartphones, and tablets, and you confirm that when you record using this technology, you would like your recordings to be saved and stored, on both your set-top DVR (if applicable) and automatically on Comcast's or Comcast's service provider's network, in one or more formats to (1) enable you to play and navigate within such recordings on different supported devices and (2) optimize the video and audio quality of your viewing experience during playback. 3. CHARGES AND BILLINGS a. You must pay certain charges, fees, and taxes You agree to pay all amounts due upon demand. You agree to pay any monthly Service charges. We will give you notice of applicable pricing at the time of your order or activation of the Services. If you receive the Services at a promotional rate, our then-current standard pricing will apply to you at the end of the promotional period. You should consult our rate card for then-current standard charges. If you receive the Services under a minimum term agreement, we will charge you the specified price for the Services subject to the minimum term pricing for the duration of the minimum term agreement. All other pricing is subject to change at any time and from time to time. You agree to pay all other charges associated with the Services. These may include charges for installation and service calls. These may also include fees identified at the time of your order or imposed after you begin receiving Services. You may incur charges for Xfinity Equipment (as defined in Section 7 below), purchases or rentals, or ancillary services. You may also incur measured and per-call charges. You can find price information for Voice at xfinity.com/corporate/about/phonetermsofservice/comcastdigitalvoice/cdvresidential. You agree to pay any applicable taxes and fees. These include applicable federal, state, and local taxes and fees (however designated), fees to recoup governmental or quasi-governmental assessments on us, and cost recovery charges. These include fees for any governmental or public programs in which we participate, such as public, educational, and governmental access, telecom relay services, and programs supporting the 911/E911 system. YOU ARE RESPONSIBLE FOR PAYING ANY SUCH FEES AND TAXES (WHETHER IMPOSED ON YOU OR ON US), INCLUDING THOSE THAT BECOME APPLICABLE RETROACTIVELY. b. Third-party charges are your responsibility In addition to the amounts we charge, you may incur charges from third-party services providers. These third parties may charge you for access to online services, telephone-based services, or other offerings. You are solely responsible for these third-party charges, including any applicable taxes. If we have agreed to provide billing services on behalf of a third party, you agree to make these payments to us. We will not be responsible for any disputes between you and any third party regarding any third-party charges. 1 c. Changes to pricing, charges, and fees\n",
      "\n",
      "This Agreement, any additional terms related to the Services, and any other documents incorporated into this Agreement by reference, form the entire agreement between you and us. No other written or verbal agreements between us have any legal force or effect. If any part of this Agreement is found invalid or unenforceable, that part will be construed in accordance with applicable law as nearly as possible to reflect the original intentions of the parties, if permitted by applicable state law. The remainder of the Agreement shall be considered severable and shall not be affected by such determination, and the rights and obligations of the Parties will remain in effect. Neither the course of conduct between us, nor trade practice, can modify this Agreement. 25. CONTACT US If our local office cannot resolve your problem to your satisfaction, you may write to the Comcast corporate offices at 1701 John F. Kennedy Blvd., Philadelphia, PA 19103-2838, Attention: Executive Customer Relations. If you experience a problem with your Services, please contact us first and give us an opportunity to resolve your problem. . Massachusetts Residents: In addition, if you are unsatisfied with our handling of your TV complaint, you may contact the Consumer Division of the Department of Telecommunications and Cable (DTC) toll free at 1-800-392-6066, or you may write to them at 1000 Washington Street, Suite 600, Boston, MA 02118. . Connecticut Residents: If a TV matter is not resolved to your satisfaction, please contact the Connecticut Public Utilities Regulatory Authority at 1-800-382-4586 (toll free within Connecticut) or 1-860-827-1553 (outside Connecticut) or TDD 1-860-827-2837. . New York Residents: If your TV concerns have not been resolved, contact your local government, or call the New York State Public Service Commission (PSC) at 1-800-342-3377, or write to: Customer Service Representative, New York State Public Service Commission, Office of Customer Services, Three Empire State Plaza, Albany, NY 12223-1350. . New Hampshire Residents: The Office of the Attorney General Consumer Protection Bureau has the authority to enforce consumer protection laws and provide assistance in the mediation of consumer complaints. Customers should file written complaints concerning any alleged misrepresentations and unfair or deceptive practices of the cable company to: Office of the Attorney General, Consumer Protection Bureau, 33 Capitol Street, Concord, NH 03301. . Maine Residents: The Office of the Attorney General Consumer Protection Division has the authority to enforce consumer protection laws and provide assistance in the mediation of consumer complaints. Customers should file written complaints concerning any alleged misrepresentations and unfair or deceptive practices of the cable company to: Office of the Attorney General, Consumer Information and Mediation Service, 6 State House Station, Augusta, ME 04333. 26. SURVIVAL The following sections shall survive the termination of your Services with us: Section 11, Section 13, Section 14, Section 15, Section 16, and Section 19. Stnd 0125 7\n",
      "==================================\u001b[1m Ai Message \u001b[0m==================================\n",
      "Name: rag_agent_executor\n",
      "\n",
      "To get a full refund on your Xfinity devices, you need to return the devices undamaged (except for normal wear and tear). If you've already paid an Unreturned Equipment Fee for devices that haven't been returned, returning the devices in good condition will entitle you to a full refund of the fee.\n"
     ]
    }
   ],
   "source": [
    "\n",
    "print_stream(rag_react_agent.stream(inputs, stream_mode=\"values\"))"
   ]
  },
  {
   "cell_type": "code",
   "execution_count": null,
   "metadata": {},
   "outputs": [],
   "source": [
    "\n"
   ]
  },
  {
   "cell_type": "code",
   "execution_count": 41,
   "metadata": {},
   "outputs": [],
   "source": [
    "workflow = create_supervisor(\n",
    "        agents=[ rag_react_agent],\n",
    "        model=llm,\n",
    "        prompt=(\n",
    "    \n",
    "            \"Role: You are an Xfinity customer support team supervisor, managing 2 kinds of tasks : 1. a customer billing sql analysis as well as a math expert. \"\n",
    "            \"2. Answering questions related to Xfinitie's policy and guidelines. \"\n",
    "            \"For customer billing realted questions, leverage the sql_agent_executor. \"\n",
    "            \"For answering queries related to company's policies and guidelines, use rag_agent_executor to cascade rag_agent_executor's output to user without rephrasing it.\"\n",
    "            \"Avoid mentioning any agent name in your response.\"\n",
    "            \"Some questions may need you to interact with both tasks, do it accordingly.\"\n",
    "        ),\n",
    "        supervisor_name=\"Xfinity\",\n",
    "    )\n",
    "app = workflow.compile(name=\"XfinityTest\")\n"
   ]
  },
  {
   "cell_type": "code",
   "execution_count": null,
   "metadata": {},
   "outputs": [],
   "source": [
    "inputs={\"messages\": [(\"user\", \"how can i get full refund on my xfinity devices? \")]}"
   ]
  },
  {
   "cell_type": "code",
   "execution_count": 46,
   "metadata": {},
   "outputs": [],
   "source": [
    "final_resp= app.invoke({\n",
    "    \"messages\": [\n",
    "        {\n",
    "            \"role\": \"user\",\n",
    "            \"content\": 'how can i get full refund on my xfinity devices?'\n",
    "        }\n",
    "    ]\n",
    "})"
   ]
  },
  {
   "cell_type": "code",
   "execution_count": null,
   "metadata": {},
   "outputs": [],
   "source": []
  }
 ],
 "metadata": {
  "kernelspec": {
   "display_name": "xinfinity-chatbot-klRgzMr8-py3.10",
   "language": "python",
   "name": "python3"
  },
  "language_info": {
   "codemirror_mode": {
    "name": "ipython",
    "version": 3
   },
   "file_extension": ".py",
   "mimetype": "text/x-python",
   "name": "python",
   "nbconvert_exporter": "python",
   "pygments_lexer": "ipython3",
   "version": "3.10.14"
  }
 },
 "nbformat": 4,
 "nbformat_minor": 2
}
